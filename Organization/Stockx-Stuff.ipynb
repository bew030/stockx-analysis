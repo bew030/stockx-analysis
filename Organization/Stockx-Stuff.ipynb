{
 "cells": [
  {
   "cell_type": "code",
   "execution_count": 1,
   "metadata": {},
   "outputs": [
    {
     "name": "stdout",
     "output_type": "stream",
     "text": [
      "['/Users/jogo/anal_sx/mod', '/Users/jogo/anal_sx/mod/emailsdk', '/Users/jogo/anal_sx/mod/emailsdk/__pycache__', '/Users/jogo/anal_sx/mod/stockxsdk', '/Users/jogo/anal_sx/mod/stockxsdk/__pycache__', '/Users/jogo/anal_sx/env/lib/python36.zip', '/Users/jogo/anal_sx/env/lib/python3.6', '/Users/jogo/anal_sx/env/lib/python3.6/lib-dynload', '/Users/jogo/anaconda3/lib/python3.6', '', '/Users/jogo/anal_sx/env/lib/python3.6/site-packages', '/Users/jogo/anal_sx/env/lib/python3.6/site-packages/IPython/extensions', '/Users/jogo/.ipython']\n"
     ]
    }
   ],
   "source": [
    "import numpy as np\n",
    "import pandas as pd\n",
    "import getpass\n",
    "from time import sleep\n",
    "import os\n",
    "import sys\n",
    "\n",
    "module_path = os.path.abspath(os.path.join('..', 'mod'))\n",
    "sys.path = [x[0] for x in os.walk(module_path)] + sys.path\n",
    "print(sys.path)\n",
    "from stockxsdk import Stockx\n",
    "from emailsdk import login, get_emails, order_df_creator"
   ]
  },
  {
   "cell_type": "code",
   "execution_count": 2,
   "metadata": {},
   "outputs": [
    {
     "name": "stdout",
     "output_type": "stream",
     "text": [
      "Email: sneaks.and.supreme.88@gmail.com\n",
      "Password: ········\n",
      "Login: OK\n"
     ]
    }
   ],
   "source": [
    "mail = login(input('Email: '), getpass.getpass('Password: '))"
   ]
  },
  {
   "cell_type": "code",
   "execution_count": 3,
   "metadata": {},
   "outputs": [
    {
     "ename": "IndexError",
     "evalue": "list index out of range",
     "output_type": "error",
     "traceback": [
      "\u001b[0;31m---------------------------------------------------------------------------\u001b[0m",
      "\u001b[0;31mIndexError\u001b[0m                                Traceback (most recent call last)",
      "\u001b[0;32m<ipython-input-3-372c8f344138>\u001b[0m in \u001b[0;36m<module>\u001b[0;34m\u001b[0m\n\u001b[1;32m      1\u001b[0m \u001b[0memail_bodies\u001b[0m \u001b[0;34m=\u001b[0m \u001b[0mget_emails\u001b[0m\u001b[0;34m(\u001b[0m\u001b[0mmail\u001b[0m\u001b[0;34m)\u001b[0m\u001b[0;34m\u001b[0m\u001b[0m\n\u001b[0;32m----> 2\u001b[0;31m \u001b[0mdf\u001b[0m \u001b[0;34m=\u001b[0m \u001b[0morder_df_creator\u001b[0m\u001b[0;34m(\u001b[0m\u001b[0memail_bodies\u001b[0m\u001b[0;34m)\u001b[0m\u001b[0;34m\u001b[0m\u001b[0m\n\u001b[0m\u001b[1;32m      3\u001b[0m \u001b[0mdf\u001b[0m\u001b[0;34m\u001b[0m\u001b[0m\n",
      "\u001b[0;32m~/anal_sx/mod/emailsdk/ereader.py\u001b[0m in \u001b[0;36morder_df_creator\u001b[0;34m(email_bodies)\u001b[0m\n\u001b[1;32m     60\u001b[0m     \u001b[0mdate\u001b[0m \u001b[0;34m=\u001b[0m \u001b[0;34m[\u001b[0m\u001b[0;34m]\u001b[0m\u001b[0;34m\u001b[0m\u001b[0m\n\u001b[1;32m     61\u001b[0m     \u001b[0;32mfor\u001b[0m \u001b[0mi\u001b[0m \u001b[0;32min\u001b[0m \u001b[0memail_bodies\u001b[0m\u001b[0;34m:\u001b[0m\u001b[0;34m\u001b[0m\u001b[0m\n\u001b[0;32m---> 62\u001b[0;31m         \u001b[0mitem_source\u001b[0m \u001b[0;34m=\u001b[0m \u001b[0mi\u001b[0m\u001b[0;34m.\u001b[0m\u001b[0msplit\u001b[0m\u001b[0;34m(\u001b[0m\u001b[0;34m'\\n'\u001b[0m\u001b[0;34m)\u001b[0m\u001b[0;34m[\u001b[0m\u001b[0;36m1\u001b[0m\u001b[0;34m]\u001b[0m\u001b[0;34m.\u001b[0m\u001b[0msplit\u001b[0m\u001b[0;34m(\u001b[0m\u001b[0;34m)\u001b[0m\u001b[0;34m[\u001b[0m\u001b[0;36m1\u001b[0m\u001b[0;34m]\u001b[0m \u001b[0;31m# primarily reads forwarded emails\u001b[0m\u001b[0;34m\u001b[0m\u001b[0m\n\u001b[0m\u001b[1;32m     63\u001b[0m         \u001b[0;32mif\u001b[0m \u001b[0mitem_source\u001b[0m\u001b[0;34m.\u001b[0m\u001b[0mlower\u001b[0m\u001b[0;34m(\u001b[0m\u001b[0;34m)\u001b[0m \u001b[0;34m==\u001b[0m \u001b[0;34m'supreme'\u001b[0m\u001b[0;34m:\u001b[0m \u001b[0;31m# sometimes orders will have more than one item\u001b[0m\u001b[0;34m\u001b[0m\u001b[0m\n\u001b[1;32m     64\u001b[0m             \u001b[0madd_order\u001b[0m\u001b[0;34m,\u001b[0m \u001b[0madd_item\u001b[0m\u001b[0;34m,\u001b[0m \u001b[0madd_size\u001b[0m\u001b[0;34m,\u001b[0m \u001b[0madd_price\u001b[0m\u001b[0;34m,\u001b[0m \u001b[0madd_source\u001b[0m\u001b[0;34m,\u001b[0m \u001b[0madd_date\u001b[0m \u001b[0;34m=\u001b[0m \u001b[0msupreme_reader\u001b[0m\u001b[0;34m(\u001b[0m\u001b[0mi\u001b[0m\u001b[0;34m)\u001b[0m\u001b[0;34m\u001b[0m\u001b[0m\n",
      "\u001b[0;31mIndexError\u001b[0m: list index out of range"
     ]
    }
   ],
   "source": [
    "email_bodies = get_emails(mail)\n",
    "df = order_df_creator(email_bodies)\n",
    "df"
   ]
  },
  {
   "cell_type": "markdown",
   "metadata": {},
   "source": [
    "# STOCKX STUFF"
   ]
  },
  {
   "cell_type": "code",
   "execution_count": null,
   "metadata": {
    "scrolled": true
   },
   "outputs": [],
   "source": [
    "stockx = Stockx()\n",
    "stockx.authenticate(input('Email: '), getpass.getpass('Password: '))"
   ]
  },
  {
   "cell_type": "code",
   "execution_count": null,
   "metadata": {},
   "outputs": [],
   "source": [
    "final_df = stockx.df_converter(df)"
   ]
  },
  {
   "cell_type": "code",
   "execution_count": null,
   "metadata": {},
   "outputs": [],
   "source": [
    "stockx.colorizer(final_df)"
   ]
  },
  {
   "cell_type": "code",
   "execution_count": null,
   "metadata": {},
   "outputs": [],
   "source": [
    "input_string = '(travis scott high, 9), (travis scott low, all), (yeezy 350 black non-reflective,7)'\n",
    "shoes_of_interest = input_string\n",
    "input_df = initial_df_creator(shoes_of_interest)\n",
    "test = stockx_purchase_df_creator(input_df)\n",
    "\n",
    "\n",
    "# In[535]:\n",
    "\n",
    "\n",
    "test.head()\n",
    "\n",
    "\n",
    "# In[536]:\n",
    "\n",
    "\n",
    "organize_by_size(test)\n",
    "\n"
   ]
  }
 ],
 "metadata": {
  "kernelspec": {
   "display_name": "anal_sx",
   "language": "python",
   "name": "anal_sx"
  },
  "language_info": {
   "codemirror_mode": {
    "name": "ipython",
    "version": 3
   },
   "file_extension": ".py",
   "mimetype": "text/x-python",
   "name": "python",
   "nbconvert_exporter": "python",
   "pygments_lexer": "ipython3",
   "version": "3.6.5"
  }
 },
 "nbformat": 4,
 "nbformat_minor": 2
}
